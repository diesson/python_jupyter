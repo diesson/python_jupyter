{
 "cells": [
  {
   "cell_type": "code",
   "execution_count": 1,
   "metadata": {},
   "outputs": [],
   "source": [
    "from funcoes import *\n",
    "%run funcoes.py\n",
    "%matplotlib inline"
   ]
  },
  {
   "cell_type": "code",
   "execution_count": 2,
   "metadata": {},
   "outputs": [
    {
     "ename": "NameError",
     "evalue": "name 'V_rms' is not defined",
     "output_type": "error",
     "traceback": [
      "\u001b[0;31m---------------------------------------------------------------------------\u001b[0m",
      "\u001b[0;31mNameError\u001b[0m                                 Traceback (most recent call last)",
      "\u001b[0;32m<ipython-input-2-54d44d739b5d>\u001b[0m in \u001b[0;36m<module>\u001b[0;34m\u001b[0m\n\u001b[1;32m      7\u001b[0m \u001b[0mV_pk_up\u001b[0m \u001b[0;34m=\u001b[0m \u001b[0mV_pk\u001b[0m\u001b[0;34m*\u001b[0m\u001b[0;36m1.1\u001b[0m\u001b[0;34m\u001b[0m\u001b[0;34m\u001b[0m\u001b[0m\n\u001b[1;32m      8\u001b[0m \u001b[0;34m\u001b[0m\u001b[0m\n\u001b[0;32m----> 9\u001b[0;31m \u001b[0ma\u001b[0m \u001b[0;34m=\u001b[0m \u001b[0mcalculo_ab\u001b[0m\u001b[0;34m(\u001b[0m\u001b[0;34mf'{V_pk_up/sqrt(2)}*sqrt(1 - (x/{pi}) + (sin(2*x)/{2*pi})) - {V_rms}'\u001b[0m\u001b[0;34m,\u001b[0m \u001b[0;36m1\u001b[0m\u001b[0;34m,\u001b[0m \u001b[0;34m'scipy'\u001b[0m\u001b[0;34m)\u001b[0m\u001b[0;34m\u001b[0m\u001b[0;34m\u001b[0m\u001b[0m\n\u001b[0m\u001b[1;32m     10\u001b[0m \u001b[0mIout_rms\u001b[0m \u001b[0;34m=\u001b[0m \u001b[0mVout_rms\u001b[0m\u001b[0;34m/\u001b[0m\u001b[0mR\u001b[0m\u001b[0;34m\u001b[0m\u001b[0;34m\u001b[0m\u001b[0m\n\u001b[1;32m     11\u001b[0m \u001b[0mS\u001b[0m \u001b[0;34m=\u001b[0m \u001b[0;34m(\u001b[0m\u001b[0mV_pk_up\u001b[0m\u001b[0;34m/\u001b[0m\u001b[0msqrt\u001b[0m\u001b[0;34m(\u001b[0m\u001b[0;36m2\u001b[0m\u001b[0;34m)\u001b[0m\u001b[0;34m)\u001b[0m\u001b[0;34m*\u001b[0m\u001b[0mIout_rms\u001b[0m\u001b[0;34m\u001b[0m\u001b[0;34m\u001b[0m\u001b[0m\n",
      "\u001b[0;31mNameError\u001b[0m: name 'V_rms' is not defined"
     ]
    }
   ],
   "source": [
    "P = 1000\n",
    "R = 10\n",
    "V_pk = 127*sqrt(2)\n",
    "\n",
    "#####################################\n",
    "Vout_rms = sqrt(P*R)\n",
    "V_pk_up = V_pk*1.1\n",
    "\n",
    "a = calculo_ab(f'{V_pk_up/sqrt(2)}*sqrt(1 - (x/{pi}) + (sin(2*x)/{2*pi})) - {V_rms}', 1, 'scipy')\n",
    "Iout_rms = Vout_rms/R\n",
    "S = (V_pk_up/sqrt(2))*Iout_rms\n",
    "FP = P/S\n",
    "x = sqrt(1 - (a/pi) + (sin(2*a)/(2*pi)))\n",
    "\n",
    "print(\"Vin: %f | Alpha: %f | FP: %f \" % (V_pk*sqrt(2), a*180/pi, FP))\n",
    "\n",
    "Vout_rms = sqrt(P*R)\n",
    "V_pk_low = V_pk*0.9\n",
    "\n",
    "a = calculo_ab(f'{V_pk_low/sqrt(2)}*sqrt(1 - (x/{pi}) + (sin(2*x)/{2*pi})) - {V_rms}', 1, 'scipy')\n",
    "Iout_rms = Vout_rms/R\n",
    "S = (V_pk_low/sqrt(2))*Iout_rms\n",
    "FP = P/S\n",
    "x = sqrt(1 - (a/pi) + (sin(2*a)/(2*pi)))\n",
    "\n",
    "print(\"Vin: %f | Alpha: %f | FP: %f \" % (V_pk*sqrt(2), a*180/pi, FP))"
   ]
  },
  {
   "cell_type": "code",
   "execution_count": 5,
   "metadata": {},
   "outputs": [
    {
     "name": "stdout",
     "output_type": "stream",
     "text": [
      "1000 1159.3460800526013 9.128709291752768\n",
      "Vp: 179.605122 | Alpha: 66.815225 | FP: 0.862555 \n"
     ]
    }
   ],
   "source": [
    "P = 1000\n",
    "R = 12\n",
    "V_pk = 127*sqrt(2)\n",
    "\n",
    "#####################################\n",
    "V_rms = sqrt(P*R)\n",
    "\n",
    "a = calculo_ab(f'{V_pk/sqrt(2)}*sqrt(1 - (x/{pi}) + (sin(2*x)/{2*pi})) - {V_rms}', 1, 'numpy')\n",
    "Iout_rms = V_rms/R\n",
    "S = (V_pk/sqrt(2))*Iout_rms\n",
    "\n",
    "FP = P/S\n",
    "x = sqrt(1 - (a/pi) + (sin(2*a)/(2*pi)))\n",
    "\n",
    "print(P, S, Iout_rms)\n",
    "\n",
    "print(\"Vp: %f | Alpha: %f | FP: %f \" % (V_pk, a*180/pi, FP))"
   ]
  },
  {
   "cell_type": "code",
   "execution_count": 6,
   "metadata": {},
   "outputs": [
    {
     "name": "stdout",
     "output_type": "stream",
     "text": [
      "Vin: 179.605122 | Alpha: 101.680404 | FP: 0.609919 \n"
     ]
    }
   ],
   "source": [
    "P = 500\n",
    "R = 12\n",
    "V_pk = 127*sqrt(2)\n",
    "\n",
    "#####################################\n",
    "V_rms = sqrt(P*R)\n",
    "\n",
    "a = calculo_ab(f'{V_pk/sqrt(2)}*sqrt(1 - (x/{pi}) + (sin(2*x)/{2*pi})) - {V_rms}', 1, 'numpy')\n",
    "Iout_rms = V_rms/R\n",
    "S = (V_pk/sqrt(2))*Iout_rms\n",
    "FP = P/S\n",
    "x = sqrt(1 - (a/pi) + (sin(2*a)/(2*pi)))\n",
    "\n",
    "print(\"Vin: %f | Alpha: %f | FP: %f \" % (V_pk, a*180/pi, FP))"
   ]
  }
 ],
 "metadata": {
  "kernelspec": {
   "display_name": "Python 3",
   "language": "python",
   "name": "python3"
  },
  "language_info": {
   "codemirror_mode": {
    "name": "ipython",
    "version": 3
   },
   "file_extension": ".py",
   "mimetype": "text/x-python",
   "name": "python",
   "nbconvert_exporter": "python",
   "pygments_lexer": "ipython3",
   "version": "3.7.1"
  }
 },
 "nbformat": 4,
 "nbformat_minor": 2
}
