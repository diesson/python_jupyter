{
 "cells": [
  {
   "cell_type": "code",
   "execution_count": 3,
   "metadata": {},
   "outputs": [],
   "source": [
    "from funcoes import *\n",
    "%run funcoes.py\n",
    "%matplotlib inline"
   ]
  },
  {
   "cell_type": "code",
   "execution_count": 22,
   "metadata": {},
   "outputs": [
    {
     "name": "stdout",
     "output_type": "stream",
     "text": [
      "Vin: 254.000000 | Alpha: 88.884064 | FP: 0.715820 \n",
      "Vin: 254.000000 | Alpha: 64.491124 | FP: 0.874891 \n"
     ]
    }
   ],
   "source": [
    "P = 1000\n",
    "R = 10\n",
    "V_pk = 127*sqrt(2)\n",
    "\n",
    "#####################################\n",
    "Vout_rms = sqrt(P*R)\n",
    "V_pk_up = V_pk*1.1\n",
    "\n",
    "a = calculo_ab(f'{V_pk_up/sqrt(2)}*sqrt(1 - (x/{pi}) + (sin(2*x)/{2*pi})) - {V_rms}', 1, 'scipy')\n",
    "Iout_rms = Vout_rms/R\n",
    "S = (V_pk_up/sqrt(2))*Iout_rms\n",
    "FP = P/S\n",
    "x = sqrt(1 - (a/pi) + (sin(2*a)/(2*pi)))\n",
    "\n",
    "print(\"Vin: %f | Alpha: %f | FP: %f \" % (V_pk*sqrt(2), a*180/pi, FP))\n",
    "\n",
    "Vout_rms = sqrt(P*R)\n",
    "V_pk_low = V_pk*0.9\n",
    "\n",
    "a = calculo_ab(f'{V_pk_low/sqrt(2)}*sqrt(1 - (x/{pi}) + (sin(2*x)/{2*pi})) - {V_rms}', 1, 'scipy')\n",
    "Iout_rms = Vout_rms/R\n",
    "S = (V_pk_low/sqrt(2))*Iout_rms\n",
    "FP = P/S\n",
    "x = sqrt(1 - (a/pi) + (sin(2*a)/(2*pi)))\n",
    "\n",
    "print(\"Vin: %f | Alpha: %f | FP: %f \" % (V_pk*sqrt(2), a*180/pi, FP))"
   ]
  }
 ],
 "metadata": {
  "kernelspec": {
   "display_name": "Python 3",
   "language": "python",
   "name": "python3"
  },
  "language_info": {
   "codemirror_mode": {
    "name": "ipython",
    "version": 3
   },
   "file_extension": ".py",
   "mimetype": "text/x-python",
   "name": "python",
   "nbconvert_exporter": "python",
   "pygments_lexer": "ipython3",
   "version": "3.7.1"
  }
 },
 "nbformat": 4,
 "nbformat_minor": 2
}
