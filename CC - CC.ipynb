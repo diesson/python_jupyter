{
 "cells": [
  {
   "cell_type": "code",
   "execution_count": 2,
   "metadata": {},
   "outputs": [],
   "source": [
    "from funcoes import *\n",
    "%run funcoes.py\n",
    "%matplotlib inline"
   ]
  },
  {
   "cell_type": "markdown",
   "metadata": {},
   "source": [
    "### BUCK (MCC)"
   ]
  },
  {
   "cell_type": "code",
   "execution_count": 7,
   "metadata": {},
   "outputs": [
    {
     "name": "stdout",
     "output_type": "stream",
     "text": [
      "| Indutor: 1.425e-04 H \n",
      "| Capacitor: 2.500E-05 F \n",
      "| D: 103.45° \n",
      "| Carga: 5.000e+00 ohm\n",
      "| Esforços chave: 17.400 V e 1.250 A\n",
      "| Esforços diodo: 17.400 V e 1.250 A\n"
     ]
    }
   ],
   "source": [
    "# --- BUCK --- #\n",
    "\n",
    "Vi = 17.4   # V\n",
    "Vo = 5      # V\n",
    "Io = 1      # A\n",
    "freq = 50e3 # Hz\n",
    "delta_v = 0.01\n",
    "delta_i = 0.5\n",
    "\n",
    "D = Vo/Vi\n",
    "\n",
    "L = ((Vi - Vo)*D)/(freq*delta_i*Io)\n",
    "C = (delta_i)/(8*freq*delta_v*Vo)\n",
    "R = Vo/Io\n",
    "\n",
    "ILmax = Io + delta_i*Io/2\n",
    "\n",
    "print(\"| Indutor: %.3e H \\n| Capacitor: %.3E F \\n| D: %.2f° \\n| Carga: %.3e ohm\" % (L, C, D*360, R))\n",
    "print(\"| Esforços chave: %.3f V e %.3f A\" % (Vi, ILmax))\n",
    "print(\"| Esforços diodo: %.3f V e %.3f A\" % (Vi, ILmax))"
   ]
  },
  {
   "cell_type": "markdown",
   "metadata": {},
   "source": [
    "### BOOST (MCC)"
   ]
  },
  {
   "cell_type": "code",
   "execution_count": 12,
   "metadata": {},
   "outputs": [
    {
     "name": "stdout",
     "output_type": "stream",
     "text": [
      "| Indutor: 6.784e-05 H \n",
      "| Capacitor: 7.872E-06 F \n",
      "| D: 229.50° \n",
      "| Carga: 4.049e+01 ohm\n",
      "| Esforços chave: 48.000 V e 4.905 A\n",
      "| Esforços diodo: 48.000 V e 4.905 A\n"
     ]
    }
   ],
   "source": [
    "# --- BOOST --- #\n",
    "\n",
    "Vi = 17.4    # V\n",
    "Vo = 48      # V\n",
    "Ii = 3.27    # A\n",
    "freq = 100e3 # Hz\n",
    "delta_v = 0.02\n",
    "delta_i = 0.5\n",
    "\n",
    "D = 1 - Vi/Vo\n",
    "Io = (1 - D)*Ii\n",
    "\n",
    "L = (Vi*D)/(freq*delta_i*Ii)\n",
    "C = (Io*D)/(freq*delta_v*Vo)\n",
    "R = Vo/Io\n",
    "\n",
    "IL = Vo*Io/Vi\n",
    "ILmax = IL + delta_i*IL\n",
    "\n",
    "print(\"| Indutor: %.3e H \\n| Capacitor: %.3E F \\n| D: %.2f° \\n| Carga: %.3e ohm\" % (L, C, D*360, R))\n",
    "print(\"| Esforços chave: %.3f V e %.3f A\" % (Vo, ILmax))\n",
    "print(\"| Esforços diodo: %.3f V e %.3f A\" % (Vo, ILmax))"
   ]
  },
  {
   "cell_type": "markdown",
   "metadata": {},
   "source": [
    "### BUCK-BOOST (MCC)"
   ]
  },
  {
   "cell_type": "code",
   "execution_count": 6,
   "metadata": {},
   "outputs": [
    {
     "name": "stdout",
     "output_type": "stream",
     "text": [
      "| Indutor: 6.122e-05 H \n",
      "| Capacitor: 1.190E-04 F\n",
      "| D:  [205.71 154.29]\n",
      "| Carga: 6.000e+00 ohm\n",
      "| Esforços chave: 28.000 V e 2.667 A\n",
      "| Esforços diodo: 28.000 V e 2.000 A\n"
     ]
    }
   ],
   "source": [
    "# --- BUCK-BOOST --- #\n",
    "\n",
    "Vi = np.array([9, 16]) # V\n",
    "Vo = 12                # V\n",
    "Po = 24                # W\n",
    "freq = 40e3            # Hz\n",
    "delta_v = 0.02\n",
    "delta_i = 0.8\n",
    "\n",
    "D = Vo/(Vo + Vi)\n",
    "Io = Po/Vo\n",
    "Ii = (D*Io)/(1-D)\n",
    "\n",
    "L = (Vi*D)/(freq*delta_i*(Ii+Io))\n",
    "C = (Io*D)/(freq*delta_v*Vo)\n",
    "R = Vo/Io\n",
    "\n",
    "print(\"| Indutor: %.3e H \\n| Capacitor: %.3E F\" % (max(L), max(C)))\n",
    "print(\"| D: \", np.round(D*360,2))\n",
    "print(\"| Carga: %.3e ohm\" % R)\n",
    "print(\"| Esforços chave: %.3f V e %.3f A\" % (max(Vi)+Vo, max(Ii)))\n",
    "print(\"| Esforços diodo: %.3f V e %.3f A\" % (max(Vi)+Vo, Io))"
   ]
  },
  {
   "cell_type": "markdown",
   "metadata": {},
   "source": [
    "### BUCK-BOOST (MCD)"
   ]
  },
  {
   "cell_type": "code",
   "execution_count": 3,
   "metadata": {},
   "outputs": [
    {
     "name": "stdout",
     "output_type": "stream",
     "text": [
      "| Indutor: 7.680e-05 H \n",
      "| Capacitor: 1.333e-05 F \n",
      "| D: 144.00°\n",
      "| Esforços chave: 96.000 V e 1.000 A\n",
      "| Esforços diodo: 96.000 V e 1.000 A\n"
     ]
    }
   ],
   "source": [
    "# Definicoes iniciais\n",
    "Vs = 48\n",
    "Vo = 48\n",
    "Io = 1\n",
    "f = 50e3\n",
    "\n",
    "# Define período contínuo\n",
    "T = 1/f\n",
    "T_on = 0.8\n",
    "\n",
    "# Define oscilação permitida\n",
    "delta_V = 0.02\n",
    "delta_I = 2.5\n",
    "\n",
    "if (delta_I<=2):\n",
    "    print('Atenção: delta_I especificado não atende MCD.')\n",
    "    \n",
    "# Potência do conversor\n",
    "P = Vo*Io\n",
    "\n",
    "# Corrente na fonte\n",
    "Is = P/Vs\n",
    "\n",
    "# Corrente média no indutor\n",
    "IL = Is + Io\n",
    "\n",
    "# Corrente instantânea máxima no indutor (máxima variação de corrente)\n",
    "Imax = delta_I*IL\n",
    "\n",
    "# Encontra D e D1 baseados no tempo de condução desejado\n",
    "D, D1 = sym.symbols('D, D1')\n",
    "\n",
    "eq1 = sym.Eq( D + D1, T_on )\n",
    "eq2 = sym.Eq( D/D1, Vo/Vs )\n",
    "\n",
    "sol = sym.solve( [eq2, eq1], (D, D1) )\n",
    "D, D1 = sol[D], sol[D1]\n",
    "\n",
    "# Cálculo indutor\n",
    "L = (Vs*D*T)/(Imax)\n",
    "\n",
    "# Cálculo capacitor\n",
    "C = (D1*T*(Imax-Io)**2)/(2*delta_V*Vo*Imax)\n",
    "\n",
    "print(\"| Indutor: %.3e H \\n| Capacitor: %.3e F \\n| D: %.2f°\" % (L, C, D*360))\n",
    "print(\"| Esforços chave: %.3f V e %.3f A\" % (Vs+Vo, Is))\n",
    "print(\"| Esforços diodo: %.3f V e %.3f A\" % (Vs+Vo, Io))"
   ]
  }
 ],
 "metadata": {
  "kernelspec": {
   "display_name": "Python 3",
   "language": "python",
   "name": "python3"
  },
  "language_info": {
   "codemirror_mode": {
    "name": "ipython",
    "version": 3
   },
   "file_extension": ".py",
   "mimetype": "text/x-python",
   "name": "python",
   "nbconvert_exporter": "python",
   "pygments_lexer": "ipython3",
   "version": "3.7.1"
  }
 },
 "nbformat": 4,
 "nbformat_minor": 2
}
