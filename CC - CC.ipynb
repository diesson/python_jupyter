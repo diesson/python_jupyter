{
 "cells": [
  {
   "cell_type": "code",
   "execution_count": 32,
   "metadata": {},
   "outputs": [],
   "source": [
    "from funcoes import *\n",
    "%run funcoes.py\n",
    "%matplotlib inline"
   ]
  },
  {
   "cell_type": "code",
   "execution_count": 52,
   "metadata": {},
   "outputs": [
    {
     "name": "stdout",
     "output_type": "stream",
     "text": [
      "| Indutor: 1.425e-04 H \n",
      "| Capacitor: 2.500E-05 F \n",
      "| D: 103.45° \n",
      "| Carga: 5.000e+00 ohm\n"
     ]
    }
   ],
   "source": [
    "# --- BUCK --- #\n",
    "\n",
    "Vi = 17.4   # V\n",
    "Vo = 5      # V\n",
    "Io = 1      # A\n",
    "freq = 50e3 # Hz\n",
    "delta_v = 0.01\n",
    "delta_i = 0.5\n",
    "\n",
    "D = Vo/Vi\n",
    "\n",
    "L = ((Vi - Vo)*D)/(freq*delta_i*Io)\n",
    "C = (delta_i)/(8*freq*delta_v*Vo)\n",
    "R = Vo/Io\n",
    "\n",
    "print(\"| Indutor: %.3e H \\n| Capacitor: %.3E F \\n| D: %.2f° \\n| Carga: %.3e ohm\" % (L, C, D*360, R))"
   ]
  },
  {
   "cell_type": "code",
   "execution_count": 53,
   "metadata": {},
   "outputs": [
    {
     "name": "stdout",
     "output_type": "stream",
     "text": [
      "| Indutor: 6.784e-05 H \n",
      "| Capacitor: 7.872E-06 F \n",
      "| D: 229.50° \n",
      "| Carga: 4.049e+01 ohm\n"
     ]
    }
   ],
   "source": [
    "# --- BOOST --- #\n",
    "\n",
    "Vi = 17.4    # V\n",
    "Vo = 48      # V\n",
    "Ii = 3.27    # A\n",
    "freq = 100e3 # Hz\n",
    "delta_v = 0.02\n",
    "delta_i = 0.5\n",
    "\n",
    "D = 1 - Vi/Vo\n",
    "Io = (1 - D)*Ii\n",
    "\n",
    "L = (Vi*D)/(freq*delta_i*Ii)\n",
    "C = (Io*D)/(freq*delta_v*Vo)\n",
    "R = Vo/Io\n",
    "\n",
    "print(\"| Indutor: %.3e H \\n| Capacitor: %.3E F \\n| D: %.2f° \\n| Carga: %.3e ohm\" % (L, C, D*360, R))"
   ]
  },
  {
   "cell_type": "code",
   "execution_count": 56,
   "metadata": {},
   "outputs": [
    {
     "name": "stdout",
     "output_type": "stream",
     "text": [
      "| Indutor: 6.122e-05 H \n",
      "| Capacitor: 1.190E-04 F\n",
      "| D:  [205.71 154.29]\n",
      "| Carga: 6.000e+00 ohm\n"
     ]
    }
   ],
   "source": [
    "# --- BUCK-BOOST --- #\n",
    "\n",
    "Vi = np.array([9, 16]) # V\n",
    "Vo = 12                # V\n",
    "Po = 24                # W\n",
    "freq = 40e3            # Hz\n",
    "delta_v = 0.02\n",
    "delta_i = 0.8\n",
    "\n",
    "D = Vo/(Vo + Vi)\n",
    "Io = Po/Vo\n",
    "Ii = (D*Io)/(1-D)\n",
    "\n",
    "L = (Vi*D)/(freq*delta_i*(Ii+Io))\n",
    "C = (Io*D)/(freq*delta_v*Vo)\n",
    "R = Vo/Io\n",
    "\n",
    "print(\"| Indutor: %.3e H \\n| Capacitor: %.3E F\" % (max(L), max(C)))\n",
    "print(\"| D: \", np.round(D*360,2))\n",
    "print(\"| Carga: %.3e ohm\" % R)"
   ]
  }
 ],
 "metadata": {
  "kernelspec": {
   "display_name": "Python 3",
   "language": "python",
   "name": "python3"
  },
  "language_info": {
   "codemirror_mode": {
    "name": "ipython",
    "version": 3
   },
   "file_extension": ".py",
   "mimetype": "text/x-python",
   "name": "python",
   "nbconvert_exporter": "python",
   "pygments_lexer": "ipython3",
   "version": "3.7.1"
  }
 },
 "nbformat": 4,
 "nbformat_minor": 2
}
