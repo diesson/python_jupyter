{
 "cells": [
  {
   "cell_type": "code",
   "execution_count": 15,
   "metadata": {},
   "outputs": [],
   "source": [
    "from funcoes import *\n",
    "%run funcoes.py\n",
    "%matplotlib inline\n",
    "\n",
    "def corrente_chave(IL, delta_i, D, mode='MCC'):\n",
    "    Ismed = IL*D\n",
    "    Isrms = IL*sqrt(D)\n",
    "    if mode == ('MCC' or 'CCM'):\n",
    "        Ispk = IL + delta_i*IL/2\n",
    "        return Ispk, Ismed, Isrms\n",
    "    else:\n",
    "        return Ismed, Isrms\n",
    "\n",
    "def corrente_diodo(IL, delta_i, D, mode='MCC'):\n",
    "    Idmed = IL*(1-D)\n",
    "    Idrms = IL*sqrt((1-D))\n",
    "    if mode == ('MCC' or 'CCM'):\n",
    "        Idpk = IL + delta_i*IL/2\n",
    "        return Idpk, Idmed, Idrms\n",
    "    else:\n",
    "        return Idmed, Idrms"
   ]
  },
  {
   "cell_type": "markdown",
   "metadata": {},
   "source": [
    "### BUCK (MCC)"
   ]
  },
  {
   "cell_type": "code",
   "execution_count": 9,
   "metadata": {},
   "outputs": [
    {
     "name": "stdout",
     "output_type": "stream",
     "text": [
      "| Indutor: 1.425e-04 H \n",
      "| Capacitor: 2.500E-05 F \n",
      "| D: 103.45° \n",
      "| Carga: 5.000e+00 ohm\n",
      "| Esforços chave: \n",
      "|\tTensão reversa máxima: 17.400 V\n",
      "|\tCorrente de pico: 1.250 A\n",
      "|\tCorrente média: 0.287 A\n",
      "|\tCorrente RMS: 0.536 A\n",
      "| Esforços diodo: \n",
      "|\tTensão reversa máxima: 17.400 V\n",
      "|\tCorrente de pico: 1.250 A\n",
      "|\tCorrente média: 0.713 A\n",
      "|\tCorrente RMS: 0.844 A\n"
     ]
    }
   ],
   "source": [
    "# --- BUCK --- #\n",
    "\n",
    "Vi = 17.4   # V\n",
    "Vo = 5      # V\n",
    "Io = 1      # A\n",
    "freq = 50e3 # Hz\n",
    "delta_v = 0.01\n",
    "delta_i = 0.5\n",
    "\n",
    "D = Vo/Vi\n",
    "\n",
    "L = ((Vi - Vo)*D)/(freq*delta_i*Io)\n",
    "C = (delta_i)/(8*freq*delta_v*Vo)\n",
    "R = Vo/Io\n",
    "\n",
    "IL = Io\n",
    "\n",
    "Ispk, Ismed, Isrms = corrente_chave(IL, delta_i, D)\n",
    "Idpk, Idmed, Idrms = corrente_diodo(IL, delta_i, D)\n",
    "\n",
    "print(\"| Indutor: %.3e H \\n| Capacitor: %.3E F \\n| D: %.2f° \\n| Carga: %.3e ohm\" % (L, C, D*360, R))\n",
    "\n",
    "print(\"| Esforços chave: \")\n",
    "print(\"|\\tTensão reversa máxima: %.3f V\" % Vi)\n",
    "print(\"|\\tCorrente de pico: %.3f A\" % Ispk)\n",
    "print(\"|\\tCorrente média: %.3f A\" % Ismed)\n",
    "print(\"|\\tCorrente RMS: %.3f A\" % Isrms)\n",
    "\n",
    "print(\"| Esforços diodo: \")\n",
    "print(\"|\\tTensão reversa máxima: %.3f V\" % Vi)\n",
    "print(\"|\\tCorrente de pico: %.3f A\" % Idpk)\n",
    "print(\"|\\tCorrente média: %.3f A\" % Idmed)\n",
    "print(\"|\\tCorrente RMS: %.3f A\" % Idrms)"
   ]
  },
  {
   "cell_type": "markdown",
   "metadata": {},
   "source": [
    "### BOOST (MCC)"
   ]
  },
  {
   "cell_type": "code",
   "execution_count": 10,
   "metadata": {},
   "outputs": [
    {
     "name": "stdout",
     "output_type": "stream",
     "text": [
      "| Indutor: 6.784e-05 H \n",
      "| Capacitor: 7.872E-06 F \n",
      "| D: 229.50° \n",
      "| Carga: 4.049e+01 ohm\n",
      "| Esforços chave: \n",
      "|\tTensão reversa máxima: 48.000 V\n",
      "|\tCorrente de pico: 4.088 A\n",
      "|\tCorrente média: 2.085 A\n",
      "|\tCorrente RMS: 2.611 A\n",
      "| Esforços diodo: \n",
      "|\tTensão reversa máxima: 48.000 V\n",
      "|\tCorrente de pico: 4.088 A\n",
      "|\tCorrente média: 1.185 A\n",
      "|\tCorrente RMS: 1.969 A\n"
     ]
    }
   ],
   "source": [
    "# --- BOOST --- #\n",
    "\n",
    "Vi = 17.4    # V\n",
    "Vo = 48      # V\n",
    "Ii = 3.27    # A\n",
    "freq = 100e3 # Hz\n",
    "delta_v = 0.02\n",
    "delta_i = 0.5\n",
    "\n",
    "D = 1 - Vi/Vo\n",
    "Io = (1 - D)*Ii\n",
    "\n",
    "L = (Vi*D)/(freq*delta_i*Ii)\n",
    "C = (Io*D)/(freq*delta_v*Vo)\n",
    "R = Vo/Io\n",
    "\n",
    "IL = Vo*Io/Vi\n",
    "\n",
    "Ispk, Ismed, Isrms = corrente_chave(IL, delta_i, D)\n",
    "Idpk, Idmed, Idrms = corrente_diodo(IL, delta_i, D)\n",
    "\n",
    "print(\"| Indutor: %.3e H \\n| Capacitor: %.3E F \\n| D: %.2f° \\n| Carga: %.3e ohm\" % (L, C, D*360, R))\n",
    "\n",
    "print(\"| Esforços chave: \")\n",
    "print(\"|\\tTensão reversa máxima: %.3f V\" % Vo)\n",
    "print(\"|\\tCorrente de pico: %.3f A\" % Ispk)\n",
    "print(\"|\\tCorrente média: %.3f A\" % Ismed)\n",
    "print(\"|\\tCorrente RMS: %.3f A\" % Isrms)\n",
    "\n",
    "print(\"| Esforços diodo: \")\n",
    "print(\"|\\tTensão reversa máxima: %.3f V\" % Vo)\n",
    "print(\"|\\tCorrente de pico: %.3f A\" % Idpk)\n",
    "print(\"|\\tCorrente média: %.3f A\" % Idmed)\n",
    "print(\"|\\tCorrente RMS: %.3f A\" % Idrms)"
   ]
  },
  {
   "cell_type": "markdown",
   "metadata": {},
   "source": [
    "### BUCK-BOOST (MCC)"
   ]
  },
  {
   "cell_type": "code",
   "execution_count": 11,
   "metadata": {},
   "outputs": [
    {
     "name": "stdout",
     "output_type": "stream",
     "text": [
      "| Indutor: 6.122e-05 H \n",
      "| Capacitor: 1.190E-04 F\n",
      "| D:  [205.71 154.29]\n",
      "| Carga: 6.000e+00 ohm\n",
      "| Esforços chave: \n",
      "|\tTensão reversa máxima: 28.000 V\n",
      "|\tCorrente de pico: 6.533 A\n",
      "|\tCorrente média: 2.667 e 2.000 A\n",
      "|\tCorrente RMS: 3.528 e 3.055 A\n",
      "| Esforços diodo: \n",
      "|\tTensão reversa máxima: 28.000 V\n",
      "|\tCorrente de pico: 6.533 A\n",
      "|\tCorrente média: 2.000 e 2.667 A\n",
      "|\tCorrente RMS: 3.055 e 3.528 A\n"
     ]
    }
   ],
   "source": [
    "# --- BUCK-BOOST --- #\n",
    "\n",
    "Vi = np.array([9, 16]) # V\n",
    "Vo = 12                # V\n",
    "Po = 24                # W\n",
    "freq = 40e3            # Hz\n",
    "delta_v = 0.02\n",
    "delta_i = 0.8\n",
    "\n",
    "D = Vo/(Vo + Vi)\n",
    "Io = Po/Vo\n",
    "Ii = (D*Io)/(1-D)\n",
    "\n",
    "L = (Vi*D)/(freq*delta_i*(Ii+Io))\n",
    "C = (Io*D)/(freq*delta_v*Vo)\n",
    "R = Vo/Io\n",
    "\n",
    "IL = max(Ii) + Io\n",
    "\n",
    "Ispk, Ismed, Isrms = corrente_chave(IL, delta_i, D)\n",
    "Idpk, Idmed, Idrms = corrente_diodo(IL, delta_i, D)\n",
    "\n",
    "print(\"| Indutor: %.3e H \\n| Capacitor: %.3E F\" % (max(L), max(C)))\n",
    "print(\"| D: \", np.round(D*360,2))\n",
    "print(\"| Carga: %.3e ohm\" % R)\n",
    "\n",
    "print(\"| Esforços chave: \")\n",
    "print(\"|\\tTensão reversa máxima: %.3f V\" % (max(Vi)+Vo))\n",
    "print(\"|\\tCorrente de pico: %.3f A\" % Ispk)\n",
    "print(\"|\\tCorrente média: %.3f e %.3f A\" % (Ismed[0], Ismed[1]))\n",
    "print(\"|\\tCorrente RMS: %.3f e %.3f A\" % (Isrms[0], Isrms[1]))\n",
    "\n",
    "print(\"| Esforços diodo: \")\n",
    "print(\"|\\tTensão reversa máxima: %.3f V\" % (max(Vi)+Vo))\n",
    "print(\"|\\tCorrente de pico: %.3f A\" % Idpk)\n",
    "print(\"|\\tCorrente média: %.3f e %.3f A\" % (Idmed[0], Idmed[1]))\n",
    "print(\"|\\tCorrente RMS: %.3f e %.3f A\" % (Idrms[0], Idrms[1]))"
   ]
  },
  {
   "cell_type": "markdown",
   "metadata": {},
   "source": [
    "### BUCK-BOOST (MCD)"
   ]
  },
  {
   "cell_type": "code",
   "execution_count": 16,
   "metadata": {},
   "outputs": [
    {
     "name": "stdout",
     "output_type": "stream",
     "text": [
      "| Indutor: 7.680e-05 H \n",
      "| Capacitor: 1.333e-05 F \n",
      "| D: 144.00°\n",
      "| Esforços chave: \n",
      "|\tTensão reversa máxima: 96.000 V\n",
      "|\tCorrente de pico: 5.000 A\n",
      "|\tCorrente média: 0.800 A\n",
      "|\tCorrente RMS: 1.265 A\n",
      "| Esforços diodo: \n",
      "|\tTensão reversa máxima: 96.000 V\n",
      "|\tCorrente de pico: 5.000 A\n",
      "|\tCorrente média: 1.200 A\n",
      "|\tCorrente RMS: 1.549 A\n"
     ]
    }
   ],
   "source": [
    "# Definicoes iniciais\n",
    "Vs = 48\n",
    "Vo = 48\n",
    "Io = 1\n",
    "f = 50e3\n",
    "\n",
    "# Define período contínuo\n",
    "T = 1/f\n",
    "T_on = 0.8\n",
    "\n",
    "# Define oscilação permitida\n",
    "delta_V = 0.02\n",
    "delta_I = 2.5\n",
    "\n",
    "if (delta_I<=2):\n",
    "    print('Atenção: delta_I especificado não atende MCD.')\n",
    "    \n",
    "# Potência do conversor\n",
    "P = Vo*Io\n",
    "\n",
    "# Corrente na fonte\n",
    "Is = P/Vs\n",
    "\n",
    "# Corrente média no indutor\n",
    "IL = Is + Io\n",
    "\n",
    "# Corrente instantânea máxima no indutor (máxima variação de corrente)\n",
    "Imax = delta_I*IL\n",
    "\n",
    "# Encontra D e D1 baseados no tempo de condução desejado\n",
    "D, D1 = sym.symbols('D, D1')\n",
    "\n",
    "eq1 = sym.Eq( D + D1, T_on )\n",
    "eq2 = sym.Eq( D/D1, Vo/Vs )\n",
    "\n",
    "sol = sym.solve( [eq2, eq1], (D, D1) )\n",
    "D, D1 = sol[D], sol[D1]\n",
    "\n",
    "# Cálculo indutor\n",
    "L = (Vs*D*T)/(Imax)\n",
    "\n",
    "# Cálculo capacitor\n",
    "C = (D1*T*(Imax-Io)**2)/(2*delta_V*Vo*Imax)\n",
    "\n",
    "Ismed, Isrms = corrente_chave(IL, delta_I, float(D), mode='MCD')\n",
    "Ispk = Imax\n",
    "Idmed, Idrms = corrente_diodo(IL, delta_I, float(D), mode='MCD')\n",
    "Idpk = Imax\n",
    "\n",
    "print(\"| Indutor: %.3e H \\n| Capacitor: %.3e F \\n| D: %.2f°\" % (L, C, D*360))\n",
    "#print(\"| Esforços chave: %.3f V e %.3f A\" % (Vs+Vo, Is))\n",
    "#print(\"| Esforços diodo: %.3f V e %.3f A\" % (Vs+Vo, Io))\n",
    "\n",
    "print(\"| Esforços chave: \")\n",
    "print(\"|\\tTensão reversa máxima: %.3f V\" % (Vs+Vo))\n",
    "print(\"|\\tCorrente de pico: %.3f A\" % Ispk)\n",
    "print(\"|\\tCorrente média: %.3f A\" % Ismed)\n",
    "print(\"|\\tCorrente RMS: %.3f A\" % Isrms)\n",
    "\n",
    "print(\"| Esforços diodo: \")\n",
    "print(\"|\\tTensão reversa máxima: %.3f V\" % (Vs+Vo))\n",
    "print(\"|\\tCorrente de pico: %.3f A\" % Idpk)\n",
    "print(\"|\\tCorrente média: %.3f A\" % Idmed)\n",
    "print(\"|\\tCorrente RMS: %.3f A\" % Idrms)"
   ]
  }
 ],
 "metadata": {
  "kernelspec": {
   "display_name": "Python 3",
   "language": "python",
   "name": "python3"
  },
  "language_info": {
   "codemirror_mode": {
    "name": "ipython",
    "version": 3
   },
   "file_extension": ".py",
   "mimetype": "text/x-python",
   "name": "python",
   "nbconvert_exporter": "python",
   "pygments_lexer": "ipython3",
   "version": "3.7.1"
  }
 },
 "nbformat": 4,
 "nbformat_minor": 2
}
