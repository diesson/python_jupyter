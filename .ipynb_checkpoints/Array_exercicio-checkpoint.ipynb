{
 "cells": [
  {
   "cell_type": "code",
   "execution_count": 63,
   "metadata": {},
   "outputs": [
    {
     "name": "stdout",
     "output_type": "stream",
     "text": [
      "[7 6 5 4 3 2]\n",
      "tamanho do vetor:  6\n",
      "elementos de 5 a 2:  [5 4 3 2]\n",
      "5\n",
      "4\n",
      "3\n",
      "2\n",
      "ultimo elemento:  2\n",
      "primeiro elemento:  7\n",
      "vetor transposto:  [7 6 5 4 3 2]\n",
      "vetor de zeros [0. 0. 0. 0. 0.]\n",
      "vetor de uns [1. 1. 1. 1. 1.]\n",
      "[1. 1. 1. 1. 1.]\n"
     ]
    }
   ],
   "source": [
    "import numpy as np\n",
    "vetor = np.array([7, 6, 5, 4, 3, 2])\n",
    "z = np.zeros(5)\n",
    "u = np.ones(5)\n",
    "print(vetor)\n",
    "print(\"tamanho do vetor: \", vetor.size)\n",
    "\n",
    "print(\"elementos de 5 a 2: \", vetor[2::])\n",
    "for i in vetor:\n",
    "    if (i <= 5) & (i >= 2):\n",
    "        print(i)\n",
    "\n",
    "print(\"ultimo elemento: \", vetor[-1])\n",
    "print(\"primeiro elemento: \", vetor[0])\n",
    "print(\"vetor transposto: \", vetor.T)\n",
    "print(\"vetor de zeros\", z)\n",
    "print(\"vetor de uns\", u)\n",
    "w = z + u\n",
    "print(w)"
   ]
  }
 ],
 "metadata": {
  "kernelspec": {
   "display_name": "Python 3",
   "language": "python",
   "name": "python3"
  },
  "language_info": {
   "codemirror_mode": {
    "name": "ipython",
    "version": 3
   },
   "file_extension": ".py",
   "mimetype": "text/x-python",
   "name": "python",
   "nbconvert_exporter": "python",
   "pygments_lexer": "ipython3",
   "version": "3.7.1"
  }
 },
 "nbformat": 4,
 "nbformat_minor": 2
}
